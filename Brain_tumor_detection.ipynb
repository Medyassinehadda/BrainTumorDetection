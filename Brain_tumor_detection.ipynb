{
  "cells": [
    {
      "cell_type": "markdown",
      "source": [
        "# **1ère méthode**\n",
        "\n",
        "\n",
        "\n"
      ],
      "metadata": {
        "id": "102uNYQvkPRH"
      }
    },
    {
      "cell_type": "markdown",
      "source": [
        "# Importation des images"
      ],
      "metadata": {
        "id": "wk75ARkSj00t"
      }
    },
    {
      "cell_type": "code",
      "execution_count": null,
      "metadata": {
        "colab": {
          "base_uri": "https://localhost:8080/"
        },
        "id": "CP3wTmNZgDUQ",
        "outputId": "16bce630-f397-4a1f-9504-048911e37bce"
      },
      "outputs": [
        {
          "output_type": "stream",
          "name": "stdout",
          "text": [
            "Mounted at /content/drive\n"
          ]
        }
      ],
      "source": [
        "from google.colab import drive\n",
        "drive.mount('/content/drive')\n"
      ]
    },
    {
      "cell_type": "code",
      "execution_count": null,
      "metadata": {
        "colab": {
          "base_uri": "https://localhost:8080/"
        },
        "id": "U-av8zIogTv-",
        "outputId": "848c9ccd-5f03-4b15-9499-9499f4b38982"
      },
      "outputs": [
        {
          "output_type": "stream",
          "name": "stdout",
          "text": [
            "Archive:  /content/drive/MyDrive/IA/base2.zip\n",
            "   creating: IA/\n",
            "   creating: IA/testing/\n",
            "   creating: IA/testing/no_tumor/\n",
            "  inflating: IA/testing/no_tumor/image(76).jpg  \n",
            "  inflating: IA/testing/no_tumor/image(77).jpg  \n",
            "  inflating: IA/testing/no_tumor/image(78).jpg  \n",
            "  inflating: IA/testing/no_tumor/image(79).jpg  \n",
            "  inflating: IA/testing/no_tumor/image(80).jpg  \n",
            "  inflating: IA/testing/no_tumor/image(81).jpg  \n",
            "  inflating: IA/testing/no_tumor/image(82).jpg  \n",
            "  inflating: IA/testing/no_tumor/image(83).jpg  \n",
            "  inflating: IA/testing/no_tumor/image(84).jpg  \n",
            "  inflating: IA/testing/no_tumor/image(85).jpg  \n",
            "  inflating: IA/testing/no_tumor/image(86).jpg  \n",
            "  inflating: IA/testing/no_tumor/image(87).jpg  \n",
            "  inflating: IA/testing/no_tumor/image(88).jpg  \n",
            "  inflating: IA/testing/no_tumor/image(89).jpg  \n",
            "  inflating: IA/testing/no_tumor/image(90).jpg  \n",
            "  inflating: IA/testing/no_tumor/image(91).jpg  \n",
            "  inflating: IA/testing/no_tumor/image(92).jpg  \n",
            "  inflating: IA/testing/no_tumor/image(93).jpg  \n",
            "  inflating: IA/testing/no_tumor/image(94).jpg  \n",
            "  inflating: IA/testing/no_tumor/image(95).jpg  \n",
            "   creating: IA/testing/tumor/\n",
            "  inflating: IA/testing/tumor/image(11).jpg  \n",
            "  inflating: IA/testing/tumor/image(12).jpg  \n",
            "  inflating: IA/testing/tumor/image(13).jpg  \n",
            "  inflating: IA/testing/tumor/image(14).jpg  \n",
            "  inflating: IA/testing/tumor/image(22).jpg  \n",
            "  inflating: IA/testing/tumor/image(23).jpg  \n",
            "  inflating: IA/testing/tumor/image(24).jpg  \n",
            "  inflating: IA/testing/tumor/image(25).jpg  \n",
            "  inflating: IA/testing/tumor/image(26).jpg  \n",
            "  inflating: IA/testing/tumor/image(27).jpg  \n",
            "  inflating: IA/testing/tumor/image(28).jpg  \n",
            "  inflating: IA/testing/tumor/image(29).jpg  \n",
            "  inflating: IA/testing/tumor/image(30).jpg  \n",
            "  inflating: IA/testing/tumor/image(31).jpg  \n",
            "  inflating: IA/testing/tumor/image(34).jpg  \n",
            "  inflating: IA/testing/tumor/image(36).jpg  \n",
            "  inflating: IA/testing/tumor/image(37).jpg  \n",
            "  inflating: IA/testing/tumor/image(38).jpg  \n",
            "  inflating: IA/testing/tumor/image(41).jpg  \n",
            "  inflating: IA/testing/tumor/image(86).jpg  \n",
            "   creating: IA/Training/\n",
            "   creating: IA/Training/no_tumor/\n",
            "  inflating: IA/Training/no_tumor/1.jpg  \n",
            "  inflating: IA/Training/no_tumor/2.jpg  \n",
            "  inflating: IA/Training/no_tumor/3.jpg  \n",
            "  inflating: IA/Training/no_tumor/4.jpg  \n",
            "  inflating: IA/Training/no_tumor/5.jpg  \n",
            "  inflating: IA/Training/no_tumor/6.jpg  \n",
            "  inflating: IA/Training/no_tumor/7.jpg  \n",
            "  inflating: IA/Training/no_tumor/8.jpg  \n",
            "  inflating: IA/Training/no_tumor/image (10).jpg  \n",
            "  inflating: IA/Training/no_tumor/image (11).jpg  \n",
            "  inflating: IA/Training/no_tumor/image (12).jpg  \n",
            "  inflating: IA/Training/no_tumor/image (13).jpg  \n",
            "  inflating: IA/Training/no_tumor/image (14).jpg  \n",
            "  inflating: IA/Training/no_tumor/image (15).jpg  \n",
            "  inflating: IA/Training/no_tumor/image (16).jpg  \n",
            "  inflating: IA/Training/no_tumor/image (17).jpg  \n",
            "  inflating: IA/Training/no_tumor/image (18).jpg  \n",
            "  inflating: IA/Training/no_tumor/image (19).jpg  \n",
            "  inflating: IA/Training/no_tumor/image (20).jpg  \n",
            "  inflating: IA/Training/no_tumor/image (21).jpg  \n",
            "  inflating: IA/Training/no_tumor/image (22).jpg  \n",
            "  inflating: IA/Training/no_tumor/image (23).jpg  \n",
            "  inflating: IA/Training/no_tumor/image (24).jpg  \n",
            "  inflating: IA/Training/no_tumor/image (25).jpg  \n",
            "  inflating: IA/Training/no_tumor/image (26).jpg  \n",
            "  inflating: IA/Training/no_tumor/image (27).jpg  \n",
            "  inflating: IA/Training/no_tumor/image (28).jpg  \n",
            "  inflating: IA/Training/no_tumor/image (29).jpg  \n",
            "  inflating: IA/Training/no_tumor/image (30).jpg  \n",
            "  inflating: IA/Training/no_tumor/image (31).jpg  \n",
            "  inflating: IA/Training/no_tumor/image (32).jpg  \n",
            "  inflating: IA/Training/no_tumor/image (33).jpg  \n",
            "  inflating: IA/Training/no_tumor/image (34).jpg  \n",
            "  inflating: IA/Training/no_tumor/image (35).jpg  \n",
            "  inflating: IA/Training/no_tumor/image (36).jpg  \n",
            "  inflating: IA/Training/no_tumor/image (37).jpg  \n",
            "  inflating: IA/Training/no_tumor/image (38).jpg  \n",
            "  inflating: IA/Training/no_tumor/image (39).jpg  \n",
            "  inflating: IA/Training/no_tumor/image (4).jpg  \n",
            "  inflating: IA/Training/no_tumor/image (40).jpg  \n",
            "  inflating: IA/Training/no_tumor/image (41).jpg  \n",
            "  inflating: IA/Training/no_tumor/image (42).jpg  \n",
            "  inflating: IA/Training/no_tumor/image (43).jpg  \n",
            "  inflating: IA/Training/no_tumor/image (44).jpg  \n",
            "  inflating: IA/Training/no_tumor/image (45).jpg  \n",
            "  inflating: IA/Training/no_tumor/image (46).jpg  \n",
            "  inflating: IA/Training/no_tumor/image (47).jpg  \n",
            "  inflating: IA/Training/no_tumor/image (48).jpg  \n",
            "  inflating: IA/Training/no_tumor/image (49).jpg  \n",
            "  inflating: IA/Training/no_tumor/image (5).jpg  \n",
            "  inflating: IA/Training/no_tumor/image (50).jpg  \n",
            "  inflating: IA/Training/no_tumor/image (51).jpg  \n",
            "  inflating: IA/Training/no_tumor/image (52).jpg  \n",
            "  inflating: IA/Training/no_tumor/image (53).jpg  \n",
            "  inflating: IA/Training/no_tumor/image (54).jpg  \n",
            "  inflating: IA/Training/no_tumor/image (55).jpg  \n",
            "  inflating: IA/Training/no_tumor/image (56).jpg  \n",
            "  inflating: IA/Training/no_tumor/image (57).jpg  \n",
            "  inflating: IA/Training/no_tumor/image (58).jpg  \n",
            "  inflating: IA/Training/no_tumor/image (59).jpg  \n",
            "  inflating: IA/Training/no_tumor/image (6).jpg  \n",
            "  inflating: IA/Training/no_tumor/image (60).jpg  \n",
            "  inflating: IA/Training/no_tumor/image (61).jpg  \n",
            "  inflating: IA/Training/no_tumor/image (62).jpg  \n",
            "  inflating: IA/Training/no_tumor/image (63).jpg  \n",
            "  inflating: IA/Training/no_tumor/image (64).jpg  \n",
            "  inflating: IA/Training/no_tumor/image (7).jpg  \n",
            "  inflating: IA/Training/no_tumor/image (8).jpg  \n",
            "  inflating: IA/Training/no_tumor/image (9).jpg  \n",
            "  inflating: IA/Training/no_tumor/image(1).jpg  \n",
            "  inflating: IA/Training/no_tumor/image(10).jpg  \n",
            "  inflating: IA/Training/no_tumor/image(11).jpg  \n",
            "  inflating: IA/Training/no_tumor/image(12).jpg  \n",
            "  inflating: IA/Training/no_tumor/image(13).jpg  \n",
            "  inflating: IA/Training/no_tumor/image(14).jpg  \n",
            "  inflating: IA/Training/no_tumor/image(15).jpg  \n",
            "  inflating: IA/Training/no_tumor/image(16).jpg  \n",
            "  inflating: IA/Training/no_tumor/image(17).jpg  \n",
            "  inflating: IA/Training/no_tumor/image(18).jpg  \n",
            "  inflating: IA/Training/no_tumor/image(19).jpg  \n",
            "  inflating: IA/Training/no_tumor/image(2).jpg  \n",
            "  inflating: IA/Training/no_tumor/image(20).jpg  \n",
            "  inflating: IA/Training/no_tumor/image(21).jpg  \n",
            "  inflating: IA/Training/no_tumor/image(22).jpg  \n",
            "  inflating: IA/Training/no_tumor/image(23).jpg  \n",
            "  inflating: IA/Training/no_tumor/image(24).jpg  \n",
            "  inflating: IA/Training/no_tumor/image(25).jpg  \n",
            "  inflating: IA/Training/no_tumor/image(26).jpg  \n",
            "  inflating: IA/Training/no_tumor/image(27).jpg  \n",
            "  inflating: IA/Training/no_tumor/image(28).jpg  \n",
            "  inflating: IA/Training/no_tumor/image(29).jpg  \n",
            "  inflating: IA/Training/no_tumor/image(3).jpg  \n",
            "  inflating: IA/Training/no_tumor/image(30).jpg  \n",
            "  inflating: IA/Training/no_tumor/image(31).jpg  \n",
            "  inflating: IA/Training/no_tumor/image(4).jpg  \n",
            "  inflating: IA/Training/no_tumor/image(5).jpg  \n",
            "  inflating: IA/Training/no_tumor/image(6).jpg  \n",
            "  inflating: IA/Training/no_tumor/image(7).jpg  \n",
            "  inflating: IA/Training/no_tumor/image(8).jpg  \n",
            "  inflating: IA/Training/no_tumor/image(9).jpg  \n",
            "   creating: IA/Training/tumor/\n",
            "  inflating: IA/Training/tumor/p (728).jpg  \n",
            "  inflating: IA/Training/tumor/p (729).jpg  \n",
            "  inflating: IA/Training/tumor/p (730).jpg  \n",
            "  inflating: IA/Training/tumor/p (731).jpg  \n",
            "  inflating: IA/Training/tumor/p (732).jpg  \n",
            "  inflating: IA/Training/tumor/p (733).jpg  \n",
            "  inflating: IA/Training/tumor/p (734).jpg  \n",
            "  inflating: IA/Training/tumor/p (735).jpg  \n",
            "  inflating: IA/Training/tumor/p (736).jpg  \n",
            "  inflating: IA/Training/tumor/p (737).jpg  \n",
            "  inflating: IA/Training/tumor/p (738).jpg  \n",
            "  inflating: IA/Training/tumor/p (739).jpg  \n",
            "  inflating: IA/Training/tumor/p (740).jpg  \n",
            "  inflating: IA/Training/tumor/p (741).jpg  \n",
            "  inflating: IA/Training/tumor/p (742).jpg  \n",
            "  inflating: IA/Training/tumor/p (743).jpg  \n",
            "  inflating: IA/Training/tumor/p (744).jpg  \n",
            "  inflating: IA/Training/tumor/p (745).jpg  \n",
            "  inflating: IA/Training/tumor/p (746).jpg  \n",
            "  inflating: IA/Training/tumor/p (747).jpg  \n",
            "  inflating: IA/Training/tumor/p (748).jpg  \n",
            "  inflating: IA/Training/tumor/p (749).jpg  \n",
            "  inflating: IA/Training/tumor/p (750).jpg  \n",
            "  inflating: IA/Training/tumor/p (751).jpg  \n",
            "  inflating: IA/Training/tumor/p (752).jpg  \n",
            "  inflating: IA/Training/tumor/p (753).jpg  \n",
            "  inflating: IA/Training/tumor/p (754).jpg  \n",
            "  inflating: IA/Training/tumor/p (755).jpg  \n",
            "  inflating: IA/Training/tumor/p (756).jpg  \n",
            "  inflating: IA/Training/tumor/p (757).jpg  \n",
            "  inflating: IA/Training/tumor/p (758).jpg  \n",
            "  inflating: IA/Training/tumor/p (759).jpg  \n",
            "  inflating: IA/Training/tumor/p (760).jpg  \n",
            "  inflating: IA/Training/tumor/p (761).jpg  \n",
            "  inflating: IA/Training/tumor/p (762).jpg  \n",
            "  inflating: IA/Training/tumor/p (763).jpg  \n",
            "  inflating: IA/Training/tumor/p (764).jpg  \n",
            "  inflating: IA/Training/tumor/p (765).jpg  \n",
            "  inflating: IA/Training/tumor/p (766).jpg  \n",
            "  inflating: IA/Training/tumor/p (767).jpg  \n",
            "  inflating: IA/Training/tumor/p (768).jpg  \n",
            "  inflating: IA/Training/tumor/p (769).jpg  \n",
            "  inflating: IA/Training/tumor/p (770).jpg  \n",
            "  inflating: IA/Training/tumor/p (771).jpg  \n",
            "  inflating: IA/Training/tumor/p (772).jpg  \n",
            "  inflating: IA/Training/tumor/p (773).jpg  \n",
            "  inflating: IA/Training/tumor/p (774).jpg  \n",
            "  inflating: IA/Training/tumor/p (775).jpg  \n",
            "  inflating: IA/Training/tumor/p (776).jpg  \n",
            "  inflating: IA/Training/tumor/p (777).jpg  \n",
            "  inflating: IA/Training/tumor/p (778).jpg  \n",
            "  inflating: IA/Training/tumor/p (779).jpg  \n",
            "  inflating: IA/Training/tumor/p (780).jpg  \n",
            "  inflating: IA/Training/tumor/p (781).jpg  \n",
            "  inflating: IA/Training/tumor/p (782).jpg  \n",
            "  inflating: IA/Training/tumor/p (783).jpg  \n",
            "  inflating: IA/Training/tumor/p (784).jpg  \n",
            "  inflating: IA/Training/tumor/p (785).jpg  \n",
            "  inflating: IA/Training/tumor/p (786).jpg  \n",
            "  inflating: IA/Training/tumor/p (787).jpg  \n",
            "  inflating: IA/Training/tumor/p (788).jpg  \n",
            "  inflating: IA/Training/tumor/p (789).jpg  \n",
            "  inflating: IA/Training/tumor/p (790).jpg  \n",
            "  inflating: IA/Training/tumor/p (791).jpg  \n",
            "  inflating: IA/Training/tumor/p (792).jpg  \n",
            "  inflating: IA/Training/tumor/p (793).jpg  \n",
            "  inflating: IA/Training/tumor/p (794).jpg  \n",
            "  inflating: IA/Training/tumor/p (795).jpg  \n",
            "  inflating: IA/Training/tumor/p (796).jpg  \n",
            "  inflating: IA/Training/tumor/p (797).jpg  \n",
            "  inflating: IA/Training/tumor/p (798).jpg  \n",
            "  inflating: IA/Training/tumor/p (799).jpg  \n",
            "  inflating: IA/Training/tumor/p (800).jpg  \n",
            "  inflating: IA/Training/tumor/p (801).jpg  \n",
            "  inflating: IA/Training/tumor/p (802).jpg  \n",
            "  inflating: IA/Training/tumor/p (803).jpg  \n",
            "  inflating: IA/Training/tumor/p (804).jpg  \n",
            "  inflating: IA/Training/tumor/p (805).jpg  \n",
            "  inflating: IA/Training/tumor/p (806).jpg  \n",
            "  inflating: IA/Training/tumor/p (807).jpg  \n",
            "  inflating: IA/Training/tumor/p (808).jpg  \n",
            "  inflating: IA/Training/tumor/p (809).jpg  \n",
            "  inflating: IA/Training/tumor/p (810).jpg  \n",
            "  inflating: IA/Training/tumor/p (811).jpg  \n",
            "  inflating: IA/Training/tumor/p (812).jpg  \n",
            "  inflating: IA/Training/tumor/p (813).jpg  \n",
            "  inflating: IA/Training/tumor/p (814).jpg  \n",
            "  inflating: IA/Training/tumor/p (815).jpg  \n",
            "  inflating: IA/Training/tumor/p (816).jpg  \n",
            "  inflating: IA/Training/tumor/p (817).jpg  \n",
            "  inflating: IA/Training/tumor/p (818).jpg  \n",
            "  inflating: IA/Training/tumor/p (819).jpg  \n",
            "  inflating: IA/Training/tumor/p (820).jpg  \n",
            "  inflating: IA/Training/tumor/p (821).jpg  \n",
            "  inflating: IA/Training/tumor/p (822).jpg  \n",
            "  inflating: IA/Training/tumor/p (823).jpg  \n",
            "  inflating: IA/Training/tumor/p (824).jpg  \n",
            "  inflating: IA/Training/tumor/p (825).jpg  \n",
            "  inflating: IA/Training/tumor/p (826).jpg  \n",
            "  inflating: IA/Training/tumor/p (827).jpg  \n"
          ]
        }
      ],
      "source": [
        "! unzip /content/drive/MyDrive/IA/base2.zip"
      ]
    },
    {
      "cell_type": "code",
      "execution_count": null,
      "metadata": {
        "colab": {
          "base_uri": "https://localhost:8080/"
        },
        "id": "rNfOcB8dg1B_",
        "outputId": "1a03b1c7-effd-47bf-82eb-98e56c88b930"
      },
      "outputs": [
        {
          "output_type": "stream",
          "name": "stdout",
          "text": [
            "total Testing tumor images: 20\n",
            "total Testing no_tumor images: 20\n",
            "\n",
            "\n",
            "total Training tumor images: 100\n",
            "total Training no_tumor images: 100\n"
          ]
        }
      ],
      "source": [
        "import os\n",
        "print('total Testing tumor images:', len(os.listdir('/content/IA/testing/tumor')))\n",
        "print('total Testing no_tumor images:', len(os.listdir('/content/IA/testing/no_tumor')))\n",
        "print('\\n')\n",
        "print('total Training tumor images:', len(os.listdir('/content/IA/Training/tumor')))\n",
        "print('total Training no_tumor images:', len(os.listdir('/content/IA/Training/no_tumor')))"
      ]
    },
    {
      "cell_type": "code",
      "execution_count": null,
      "metadata": {
        "id": "HsykLHWzxYLF"
      },
      "outputs": [],
      "source": [
        "train_dir = '/content/IA/Training'\n",
        "testing_dir = '/content/IA/testing'"
      ]
    },
    {
      "cell_type": "markdown",
      "source": [
        "# Création d'un modèle CNN (convolutional neural network)"
      ],
      "metadata": {
        "id": "aBUVI6P2efQi"
      }
    },
    {
      "cell_type": "code",
      "execution_count": null,
      "metadata": {
        "id": "lFvBdb9ayiGa"
      },
      "outputs": [],
      "source": [
        "from tensorflow.keras.models import Sequential\n",
        "from keras import layers\n",
        "from tensorflow.keras.layers import Dense,Conv2D,Flatten,MaxPooling2D\n",
        "from tensorflow.keras.callbacks import EarlyStopping,ReduceLROnPlateau\n",
        "model = Sequential()\n",
        "model.add(layers.Conv2D(256, (3, 3), activation='relu',input_shape=(227, 227, 3)))\n",
        "model.add(layers.MaxPooling2D((2, 2)))\n",
        "model.add(layers.Conv2D(256, (3, 3), activation='relu'))\n",
        "model.add(layers.MaxPooling2D((2, 2)))\n",
        "model.add(layers.Conv2D(64, (3, 3), activation='relu'))\n",
        "model.add(layers.MaxPooling2D((2, 2)))\n",
        "model.add(layers.Conv2D(64, (3, 3), activation='relu'))\n",
        "model.add(layers.MaxPooling2D((2, 2)))\n",
        "model.add(layers.Flatten())\n",
        "model.add(layers.Dense(256, activation='sigmoid'))\n",
        "model.add(layers.Dense(1, activation='sigmoid'))"
      ]
    },
    {
      "cell_type": "code",
      "execution_count": null,
      "metadata": {
        "colab": {
          "base_uri": "https://localhost:8080/"
        },
        "id": "FnQZoJ-eypBA",
        "outputId": "21f049f3-1e46-43cc-a4f6-6559e289e0e7"
      },
      "outputs": [
        {
          "output_type": "stream",
          "name": "stdout",
          "text": [
            "Model: \"sequential\"\n",
            "_________________________________________________________________\n",
            " Layer (type)                Output Shape              Param #   \n",
            "=================================================================\n",
            " conv2d (Conv2D)             (None, 225, 225, 256)     7168      \n",
            "                                                                 \n",
            " max_pooling2d (MaxPooling2D  (None, 112, 112, 256)    0         \n",
            " )                                                               \n",
            "                                                                 \n",
            " conv2d_1 (Conv2D)           (None, 110, 110, 256)     590080    \n",
            "                                                                 \n",
            " max_pooling2d_1 (MaxPooling  (None, 55, 55, 256)      0         \n",
            " 2D)                                                             \n",
            "                                                                 \n",
            " conv2d_2 (Conv2D)           (None, 53, 53, 64)        147520    \n",
            "                                                                 \n",
            " max_pooling2d_2 (MaxPooling  (None, 26, 26, 64)       0         \n",
            " 2D)                                                             \n",
            "                                                                 \n",
            " conv2d_3 (Conv2D)           (None, 24, 24, 64)        36928     \n",
            "                                                                 \n",
            " max_pooling2d_3 (MaxPooling  (None, 12, 12, 64)       0         \n",
            " 2D)                                                             \n",
            "                                                                 \n",
            " flatten (Flatten)           (None, 9216)              0         \n",
            "                                                                 \n",
            " dense (Dense)               (None, 256)               2359552   \n",
            "                                                                 \n",
            " dense_1 (Dense)             (None, 1)                 257       \n",
            "                                                                 \n",
            "=================================================================\n",
            "Total params: 3,141,505\n",
            "Trainable params: 3,141,505\n",
            "Non-trainable params: 0\n",
            "_________________________________________________________________\n"
          ]
        }
      ],
      "source": [
        "model.summary()"
      ]
    },
    {
      "cell_type": "code",
      "execution_count": null,
      "metadata": {
        "colab": {
          "base_uri": "https://localhost:8080/"
        },
        "id": "iHS2gVYwyq1z",
        "outputId": "01a31b83-1510-4174-8258-2a0cfc237b36"
      },
      "outputs": [
        {
          "output_type": "stream",
          "name": "stdout",
          "text": [
            "Found 200 images belonging to 2 classes.\n",
            "Found 40 images belonging to 2 classes.\n"
          ]
        }
      ],
      "source": [
        "from keras.preprocessing.image import ImageDataGenerator\n",
        "train_datagen = ImageDataGenerator(rescale=1./255,\n",
        "                                   rotation_range=10,\n",
        "                                   zoom_range=0.4,\n",
        "                                   horizontal_flip=False,\n",
        "                                   vertical_flip=True,\n",
        "                                   fill_mode='nearest')\n",
        "Val_datagen = ImageDataGenerator(rescale=1./255)\n",
        "train_generator = train_datagen.flow_from_directory(\n",
        "    train_dir,\n",
        "    target_size=(227, 227),\n",
        "    batch_size=1,\n",
        "    class_mode='binary')\n",
        "testing_generator = Val_datagen.flow_from_directory(\n",
        "    testing_dir,\n",
        "    target_size=(227, 227),\n",
        "    batch_size=1,\n",
        "    class_mode='binary')"
      ]
    },
    {
      "cell_type": "markdown",
      "source": [
        "# Compilation du modèle avec l'optimiseur adam\n",
        "\n"
      ],
      "metadata": {
        "id": "S7vBktYMfrSb"
      }
    },
    {
      "cell_type": "code",
      "execution_count": null,
      "metadata": {
        "colab": {
          "base_uri": "https://localhost:8080/"
        },
        "id": "ZtmeST76zLkk",
        "outputId": "a48ee1d0-6129-4ecb-9bfe-c187d62c3aea"
      },
      "outputs": [
        {
          "output_type": "stream",
          "name": "stdout",
          "text": [
            "Epoch 1/25\n",
            "200/200 [==============================] - 219s 1s/step - loss: 0.7362 - accuracy: 0.5100 - val_loss: 0.6939 - val_accuracy: 0.5000 - lr: 0.0010\n",
            "Epoch 2/25\n",
            "200/200 [==============================] - 215s 1s/step - loss: 0.7147 - accuracy: 0.5100 - val_loss: 0.6882 - val_accuracy: 0.6000 - lr: 0.0010\n"
          ]
        }
      ],
      "source": [
        "early = EarlyStopping(monitor='val_loss', mode='min')\n",
        "learning_rate_reduction = ReduceLROnPlateau(monitor='val_loss', min_lr=0.000001)\n",
        "callbacks_list = [ early, learning_rate_reduction]\n",
        "model.compile(optimizer = 'adam', loss = 'binary_crossentropy', metrics = ['accuracy'])\n",
        "history = model.fit(train_generator,epochs=25, validation_data=testing_generator, callbacks=callbacks_list)"
      ]
    },
    {
      "cell_type": "code",
      "execution_count": null,
      "metadata": {
        "colab": {
          "base_uri": "https://localhost:8080/"
        },
        "id": "tXh-rZdB2IMe",
        "outputId": "804dc4a5-437c-4516-9803-c7f5b40b7e34"
      },
      "outputs": [
        {
          "output_type": "stream",
          "name": "stdout",
          "text": [
            "Saved model to disk\n"
          ]
        }
      ],
      "source": [
        "model.save_weights(\"modelscratch.h5\")\n",
        "print(\"Saved model to disk\")"
      ]
    },
    {
      "cell_type": "code",
      "execution_count": null,
      "metadata": {
        "id": "HhhPk1U82Krs"
      },
      "outputs": [],
      "source": [
        "import numpy as np\n",
        "from keras.preprocessing import image\n",
        "import matplotlib.pyplot as plt\n",
        "img_path='/content/IA/testing/no_tumor/image(91).jpg'"
      ]
    },
    {
      "cell_type": "code",
      "execution_count": null,
      "metadata": {
        "colab": {
          "base_uri": "https://localhost:8080/",
          "height": 286
        },
        "id": "mNzVnnDC_0Va",
        "outputId": "2bbed33e-a92c-4ffe-f6ea-fefc2d09d128"
      },
      "outputs": [
        {
          "output_type": "display_data",
          "data": {
            "image/png": "[encoded data removed]",
            "text/plain": [
              "<Figure size 432x288 with 1 Axes>"
            ]
          },
          "metadata": {
            "needs_background": "light"
          }
        },
        {
          "output_type": "stream",
          "name": "stdout",
          "text": [
            "Predicted: [[0.55370563]] no_tumor\n"
          ]
        }
      ],
      "source": [
        "img = image.load_img(img_path, target_size=(227, 227))\n",
        "plt.imshow(img)\n",
        "plt.show()\n",
        "img = image.img_to_array(img)\n",
        "x = np.expand_dims(img, axis=0) * 1./255\n",
        "score = model.predict(x)\n",
        "print('Predicted:', score, 'tumor' if score < 0.5 else 'no_tumor')"
      ]
    },
    {
      "cell_type": "markdown",
      "source": [
        "# **2ème méthode**"
      ],
      "metadata": {
        "id": "L9I931Q9hBn7"
      }
    },
    {
      "cell_type": "code",
      "execution_count": null,
      "metadata": {
        "colab": {
          "base_uri": "https://localhost:8080/"
        },
        "id": "hg5udrgj_5hF",
        "outputId": "97ca241c-8864-43ad-8816-65654b202a13"
      },
      "outputs": [
        {
          "output_type": "stream",
          "name": "stdout",
          "text": [
            "Downloading data from https://storage.googleapis.com/tensorflow/keras-applications/vgg19/vgg19_weights_tf_dim_ordering_tf_kernels_notop.h5\n",
            "80142336/80134624 [==============================] - 1s 0us/step\n",
            "80150528/80134624 [==============================] - 1s 0us/step\n"
          ]
        }
      ],
      "source": [
        "from tensorflow.keras import applications\n",
        "from keras.models import Sequential\n",
        "from keras.layers import Dropout,Dense,Conv2D,GlobalAveragePooling2D\n",
        "from keras.models import Model\n",
        "img_width,img_height=224,224\n",
        "base_model =applications.VGG19(weights='imagenet',include_top=False,input_shape=(img_width,img_height,3))\n",
        "top_model=Sequential()\n",
        "top_model.add(GlobalAveragePooling2D(input_shape=base_model.output_shape[1:],data_format=None))\n",
        "top_model.add(Dense(256,activation='relu'))\n",
        "top_model.add(Dropout(0.25))\n",
        "top_model.add(Dense(1,activation='sigmoid'))\n",
        "modeltransfer=Model(inputs=base_model.input,outputs=top_model(base_model.output))"
      ]
    },
    {
      "cell_type": "code",
      "execution_count": null,
      "metadata": {
        "colab": {
          "base_uri": "https://localhost:8080/"
        },
        "id": "csI4_Yln_8bA",
        "outputId": "80de99d3-7147-4a83-8f2e-a69e188dca23"
      },
      "outputs": [
        {
          "output_type": "stream",
          "name": "stdout",
          "text": [
            "Epoch 1/25\n",
            "80/80 [==============================] - 239s 3s/step - loss: 49662.4141 - accuracy: 0.4750 - val_loss: 0.7202 - val_accuracy: 0.5000 - lr: 0.0010\n",
            "Epoch 2/25\n",
            "80/80 [==============================] - 239s 3s/step - loss: 0.7611 - accuracy: 0.5000 - val_loss: 0.6942 - val_accuracy: 0.5000 - lr: 0.0010\n",
            "Epoch 3/25\n",
            "80/80 [==============================] - 239s 3s/step - loss: 0.7572 - accuracy: 0.5750 - val_loss: 0.7027 - val_accuracy: 0.5000 - lr: 0.0010\n",
            "Epoch 4/25\n",
            "80/80 [==============================] - 237s 3s/step - loss: 0.8282 - accuracy: 0.4625 - val_loss: 0.7103 - val_accuracy: 0.5000 - lr: 0.0010\n",
            "Epoch 5/25\n",
            "80/80 [==============================] - 237s 3s/step - loss: 0.7553 - accuracy: 0.4750 - val_loss: 0.6960 - val_accuracy: 0.5000 - lr: 0.0010\n"
          ]
        }
      ],
      "source": [
        "early = EarlyStopping(monitor='val_loss', mode='min')\n",
        "learning_rate_reduction = ReduceLROnPlateau(monitor='val_loss', min_lr=0.000001)\n",
        "callbacks_list = [ early, learning_rate_reduction]\n",
        "modeltransfer.compile(optimizer = 'adam', loss = 'binary_crossentropy', metrics = ['accuracy'])\n",
        "history = modeltransfer.fit(train_generator,epochs=25, validation_data=testing_generator, callbacks=callbacks_list)"
      ]
    },
    {
      "cell_type": "code",
      "execution_count": null,
      "metadata": {
        "id": "D2fbKarV__ff",
        "colab": {
          "base_uri": "https://localhost:8080/"
        },
        "outputId": "b6a380fc-2a8f-4f01-fe71-7193beb717bf"
      },
      "outputs": [
        {
          "output_type": "stream",
          "name": "stdout",
          "text": [
            "Saved model to disk\n"
          ]
        }
      ],
      "source": [
        "modeltransfer.save_weights(\"modelTransfer.h5\")\n",
        "print(\"Saved model to disk\")"
      ]
    },
    {
      "cell_type": "code",
      "execution_count": null,
      "metadata": {
        "id": "J9tJf-EWABvu"
      },
      "outputs": [],
      "source": [
        "import numpy as np\n",
        "from keras.preprocessing import image\n",
        "import matplotlib.pyplot as plt\n",
        "img_path='/content/IA/testing/tumor/image(31).jpg'"
      ]
    },
    {
      "cell_type": "code",
      "execution_count": null,
      "metadata": {
        "id": "b3Jls5sbAD-N",
        "colab": {
          "base_uri": "https://localhost:8080/",
          "height": 286
        },
        "outputId": "efce634f-f421-48a3-bebd-25eef168543a"
      },
      "outputs": [
        {
          "output_type": "display_data",
          "data": {
            "image/png": "[encoded data removed]",
            "text/plain": [
              "<Figure size 432x288 with 1 Axes>"
            ]
          },
          "metadata": {
            "needs_background": "light"
          }
        },
        {
          "output_type": "stream",
          "name": "stdout",
          "text": [
            "Predicted: [[0.45969597]] tumor\n"
          ]
        }
      ],
      "source": [
        "img = image.load_img(img_path, target_size=(224,224))\n",
        "plt.imshow(img)\n",
        "plt.show()\n",
        "img = image.img_to_array(img)\n",
        "x = np.expand_dims(img, axis=0) * 1./255\n",
        "score = modeltransfer.predict(x)\n",
        "print('Predicted:', score, 'tumor' if score < 0.5 else 'no_tumor') "
      ]
    }
  ],
  "metadata": {
    "colab": {
      "collapsed_sections": [],
      "name": "Brain_tumor_detection.ipynb",
      "provenance": []
    },
    "kernelspec": {
      "display_name": "Python 3",
      "name": "python3"
    },
    "language_info": {
      "name": "python"
    }
  },
  "nbformat": 4,
  "nbformat_minor": 0
}